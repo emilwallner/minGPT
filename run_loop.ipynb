{
 "cells": [
  {
   "cell_type": "code",
   "execution_count": 1,
   "metadata": {},
   "outputs": [],
   "source": [
    "# set up logging\n",
    "import logging\n",
    "logging.basicConfig(\n",
    "        format=\"%(asctime)s - %(levelname)s - %(name)s -   %(message)s\",\n",
    "        datefmt=\"%m/%d/%Y %H:%M:%S\",\n",
    "        level=logging.INFO,\n",
    ")"
   ]
  },
  {
   "cell_type": "code",
   "execution_count": 2,
   "metadata": {},
   "outputs": [],
   "source": [
    "# make deterministic\n",
    "from mingpt.utils import set_seed\n",
    "set_seed(42)"
   ]
  },
  {
   "cell_type": "code",
   "execution_count": 3,
   "metadata": {},
   "outputs": [],
   "source": [
    "import numpy as np\n",
    "import torch\n",
    "import string\n",
    "import os\n",
    "from tqdm import tqdm\n",
    "import torch.nn as nn\n",
    "from torch.nn import functional as F\n",
    "import datetime\n",
    "from mingpt.md import MemData\n",
    "from mingpt.marker_dataset import MarkerDataset\n",
    "from mingpt.math_dataset import MathDataset\n",
    "from mingpt.model import GPT, GPTConfig, GPT1Config\n",
    "from torch.utils.data.dataloader import DataLoader\n",
    "from mingpt.trainer import Trainer, TrainerConfig\n",
    "from mingpt.examiner import Examiner\n",
    "%load_ext autoreload\n",
    "%autoreload 2"
   ]
  },
  {
   "cell_type": "code",
   "execution_count": 4,
   "metadata": {},
   "outputs": [],
   "source": [
    "#create a dataset\n",
    "!rm -rf run models\n",
    "!cp -r data run\n",
    "!mkdir models\n",
    "fn_data = 'run/numbers__list_prime_factors.txt'"
   ]
  },
  {
   "cell_type": "code",
   "execution_count": 5,
   "metadata": {},
   "outputs": [],
   "source": [
    "# Add memory data structure to training data\n",
    "memory_slots = 7\n",
    "MD = MemData(memory_slots)\n",
    "MD.initiate_mem_slot_data(fn_data)"
   ]
  },
  {
   "cell_type": "code",
   "execution_count": 6,
   "metadata": {},
   "outputs": [],
   "source": [
    "fn_test = 'run/test_numbers__list_prime_factors.txt'\n",
    "fn_train = 'run/train_numbers__list_prime_factors.txt'\n",
    "train_dataset = MathDataset(fname=fn_train, MD=MD)"
   ]
  },
  {
   "cell_type": "code",
   "execution_count": 7,
   "metadata": {},
   "outputs": [
    {
     "name": "stdout",
     "output_type": "stream",
     "text": [
      "260\n",
      "102\n",
      "27\n"
     ]
    }
   ],
   "source": [
    "print(MD.block_size)\n",
    "print(MD.vocab_size)\n",
    "print(MD.max_trg)"
   ]
  },
  {
   "cell_type": "code",
   "execution_count": 8,
   "metadata": {},
   "outputs": [
    {
     "name": "stderr",
     "output_type": "stream",
     "text": [
      "12/17/2020 05:09:49 - INFO - mingpt.model -   number of parameters: 3.278336e+06\n"
     ]
    }
   ],
   "source": [
    "# initialize a baby GPT model\n",
    "mconf = GPTConfig(MD.vocab_size, MD.block_size,\n",
    "                  n_layer=4, n_head=8, n_embd=256)\n",
    "model = GPT(mconf)"
   ]
  },
  {
   "cell_type": "code",
   "execution_count": 9,
   "metadata": {},
   "outputs": [
    {
     "name": "stdout",
     "output_type": "stream",
     "text": [
      "Loading Main Dataset\n",
      "\n",
      "Training:  0\n"
     ]
    },
    {
     "name": "stderr",
     "output_type": "stream",
     "text": [
      "12/17/2020 05:09:50 - INFO - mingpt.trainer -   saving models/2020-12-17~05:09:49/0.pth\n",
      "Iiter 2:   0%|          | 0/900 [00:00<?, ?it/s]"
     ]
    },
    {
     "name": "stdout",
     "output_type": "stream",
     "text": [
      "Exam and new dataset-------------\n",
      "\n",
      "Training exam \n",
      "\n"
     ]
    },
    {
     "name": "stderr",
     "output_type": "stream",
     "text": [
      "Iiter 899: 100%|██████████| 900/900 [00:02<00:00, 301.30it/s]\n",
      "Iiter 17:  14%|█▍        | 14/100 [00:00<00:00, 139.74it/s]"
     ]
    },
    {
     "name": "stdout",
     "output_type": "stream",
     "text": [
      "Final score: 0/784 = 0.00% correct\n",
      "Saving new files to disk...\n",
      "Test exam \n",
      "\n"
     ]
    },
    {
     "name": "stderr",
     "output_type": "stream",
     "text": [
      "Iiter 99: 100%|██████████| 100/100 [00:00<00:00, 141.82it/s]\n",
      "12/17/2020 05:09:54 - INFO - mingpt.trainer -   saving models/2020-12-17~05:09:49/1.pth\n",
      "12/17/2020 05:09:54 - INFO - mingpt.trainer -   saving models/2020-12-17~05:09:49/2.pth\n",
      "Iiter 3:   0%|          | 0/784 [00:00<?, ?it/s]"
     ]
    },
    {
     "name": "stdout",
     "output_type": "stream",
     "text": [
      "Final score: 0/87 = 0.00% correct\n",
      "Saving new files to disk...\n",
      "Loading Marker Dataset\n",
      "\n",
      "Training:  1\n",
      "Loading Main Dataset\n",
      "\n",
      "Training:  2\n",
      "Exam and new dataset-------------\n",
      "\n",
      "Training exam \n",
      "\n"
     ]
    },
    {
     "name": "stderr",
     "output_type": "stream",
     "text": [
      "Iiter 783: 100%|██████████| 784/784 [00:02<00:00, 284.17it/s]\n",
      "Iiter 17:  11%|█▏        | 10/87 [00:00<00:00, 99.83it/s]"
     ]
    },
    {
     "name": "stdout",
     "output_type": "stream",
     "text": [
      "Final score: 0/600 = 0.00% correct\n",
      "Saving new files to disk...\n",
      "Test exam \n",
      "\n"
     ]
    },
    {
     "name": "stderr",
     "output_type": "stream",
     "text": [
      "Iiter 86: 100%|██████████| 87/87 [00:00<00:00, 144.90it/s]\n",
      "12/17/2020 05:09:57 - INFO - mingpt.trainer -   saving models/2020-12-17~05:09:49/3.pth\n",
      "12/17/2020 05:09:57 - INFO - mingpt.trainer -   saving models/2020-12-17~05:09:49/4.pth\n",
      "Iiter 10:   2%|▏         | 10/600 [00:00<00:05, 99.74it/s]"
     ]
    },
    {
     "name": "stdout",
     "output_type": "stream",
     "text": [
      "Final score: 0/68 = 0.00% correct\n",
      "Saving new files to disk...\n",
      "Loading Marker Dataset\n",
      "\n",
      "Training:  3\n",
      "Loading Main Dataset\n",
      "\n",
      "Training:  4\n",
      "Exam and new dataset-------------\n",
      "\n",
      "Training exam \n",
      "\n"
     ]
    },
    {
     "name": "stderr",
     "output_type": "stream",
     "text": [
      "Iiter 599: 100%|██████████| 600/600 [00:03<00:00, 195.17it/s]\n",
      "Iiter 4:   6%|▌         | 4/68 [00:00<00:02, 23.01it/s]"
     ]
    },
    {
     "name": "stdout",
     "output_type": "stream",
     "text": [
      "Final score: 0/455 = 0.00% correct\n",
      "Saving new files to disk...\n",
      "Test exam \n",
      "\n"
     ]
    },
    {
     "name": "stderr",
     "output_type": "stream",
     "text": [
      "Iiter 67: 100%|██████████| 68/68 [00:00<00:00, 81.34it/s]\n",
      "12/17/2020 05:10:01 - INFO - mingpt.trainer -   saving models/2020-12-17~05:09:49/5.pth\n",
      "12/17/2020 05:10:01 - INFO - mingpt.trainer -   saving models/2020-12-17~05:09:49/6.pth\n",
      "Iiter 3:   0%|          | 0/455 [00:00<?, ?it/s]"
     ]
    },
    {
     "name": "stdout",
     "output_type": "stream",
     "text": [
      "Final score: 0/45 = 0.00% correct\n",
      "Saving new files to disk...\n",
      "Loading Marker Dataset\n",
      "\n",
      "Training:  5\n",
      "Loading Main Dataset\n",
      "\n",
      "Training:  6\n",
      "Exam and new dataset-------------\n",
      "\n",
      "Training exam \n",
      "\n"
     ]
    },
    {
     "name": "stderr",
     "output_type": "stream",
     "text": [
      "Iiter 454: 100%|██████████| 455/455 [00:04<00:00, 110.05it/s]\n",
      "Iiter 4:   9%|▉         | 4/45 [00:00<00:01, 24.11it/s]"
     ]
    },
    {
     "name": "stdout",
     "output_type": "stream",
     "text": [
      "Final score: 0/415 = 0.00% correct\n",
      "Saving new files to disk...\n",
      "Test exam \n",
      "\n"
     ]
    },
    {
     "name": "stderr",
     "output_type": "stream",
     "text": [
      "Iiter 44: 100%|██████████| 45/45 [00:00<00:00, 63.06it/s]\n",
      "12/17/2020 05:10:06 - INFO - mingpt.trainer -   saving models/2020-12-17~05:09:49/7.pth\n",
      "12/17/2020 05:10:06 - INFO - mingpt.trainer -   saving models/2020-12-17~05:09:49/8.pth\n",
      "Iiter 4:   0%|          | 0/415 [00:00<?, ?it/s]"
     ]
    },
    {
     "name": "stdout",
     "output_type": "stream",
     "text": [
      "Final score: 0/27 = 0.00% correct\n",
      "Saving new files to disk...\n",
      "Loading Marker Dataset\n",
      "\n",
      "Training:  7\n",
      "Loading Main Dataset\n",
      "\n",
      "Training:  8\n",
      "Exam and new dataset-------------\n",
      "\n",
      "Training exam \n",
      "\n"
     ]
    },
    {
     "name": "stderr",
     "output_type": "stream",
     "text": [
      "Iiter 414: 100%|██████████| 415/415 [00:03<00:00, 112.47it/s]\n",
      "Iiter 4:  15%|█▍        | 4/27 [00:00<00:01, 22.57it/s]"
     ]
    },
    {
     "name": "stdout",
     "output_type": "stream",
     "text": [
      "Final score: 0/295 = 0.00% correct\n",
      "Saving new files to disk...\n",
      "Test exam \n",
      "\n"
     ]
    },
    {
     "name": "stderr",
     "output_type": "stream",
     "text": [
      "Iiter 26: 100%|██████████| 27/27 [00:00<00:00, 50.83it/s]\n",
      "12/17/2020 05:10:10 - INFO - mingpt.trainer -   saving models/2020-12-17~05:09:49/9.pth\n",
      "12/17/2020 05:10:10 - INFO - mingpt.trainer -   saving models/2020-12-17~05:09:49/10.pth\n",
      "Iiter 3:   0%|          | 0/295 [00:00<?, ?it/s]"
     ]
    },
    {
     "name": "stdout",
     "output_type": "stream",
     "text": [
      "Final score: 0/11 = 0.00% correct\n",
      "Saving new files to disk...\n",
      "Loading Marker Dataset\n",
      "\n",
      "Training:  9\n",
      "Loading Main Dataset\n",
      "\n",
      "Training:  10\n",
      "Exam and new dataset-------------\n",
      "\n",
      "Training exam \n",
      "\n"
     ]
    },
    {
     "name": "stderr",
     "output_type": "stream",
     "text": [
      "Iiter 294: 100%|██████████| 295/295 [00:02<00:00, 110.94it/s]\n",
      "Iiter 4:  36%|███▋      | 4/11 [00:00<00:00, 22.77it/s]"
     ]
    },
    {
     "name": "stdout",
     "output_type": "stream",
     "text": [
      "Final score: 0/141 = 0.00% correct\n",
      "Saving new files to disk...\n",
      "Test exam \n",
      "\n"
     ]
    },
    {
     "name": "stderr",
     "output_type": "stream",
     "text": [
      "Iiter 10: 100%|██████████| 11/11 [00:00<00:00, 41.71it/s]\n",
      "12/17/2020 05:10:13 - INFO - mingpt.trainer -   saving models/2020-12-17~05:09:49/11.pth\n",
      "12/17/2020 05:10:13 - INFO - mingpt.trainer -   saving models/2020-12-17~05:09:49/12.pth\n",
      "Iiter 3:   0%|          | 0/141 [00:00<?, ?it/s]"
     ]
    },
    {
     "name": "stdout",
     "output_type": "stream",
     "text": [
      "Final score: 0/3 = 0.00% correct\n",
      "Saving new files to disk...\n",
      "Loading Marker Dataset\n",
      "\n",
      "Training:  11\n",
      "Loading Main Dataset\n",
      "\n",
      "Training:  12\n",
      "Exam and new dataset-------------\n",
      "\n",
      "Training exam \n",
      "\n"
     ]
    },
    {
     "name": "stderr",
     "output_type": "stream",
     "text": [
      "Iiter 140: 100%|██████████| 141/141 [00:01<00:00, 86.28it/s]\n",
      "Iiter 2: 100%|██████████| 3/3 [00:00<00:00, 36.93it/s]\n",
      "12/17/2020 05:10:15 - INFO - mingpt.trainer -   saving models/2020-12-17~05:09:49/13.pth\n",
      "12/17/2020 05:10:15 - INFO - mingpt.trainer -   saving models/2020-12-17~05:09:49/14.pth\n",
      "Iiter 1:   0%|          | 0/60 [00:00<?, ?it/s]"
     ]
    },
    {
     "name": "stdout",
     "output_type": "stream",
     "text": [
      "torch.Size([1, 178])\n",
      "torch.Size([19, 176])\n",
      "tensor([[61, 84, 94, 95,  7, 95, 83, 80,  7, 91, 93, 84, 88, 80,  7, 81, 76, 78,\n",
      "         95, 90, 93, 94,  7, 90, 81,  7, 42, 44, 44, 46, 43, 41, 44, 40, 21,  1,\n",
      "         73, 73, 73, 73, 34, 73, 34, 73, 73, 34, 73, 34, 73, 34, 73, 73, 34, 73,\n",
      "         34,  2, 73, 73, 73, 73, 73, 73, 73, 73, 73, 73, 73, 73, 73, 73, 34, 73,\n",
      "         34, 73, 34,  2, 73, 73, 73, 73, 73, 73, 73, 73, 73, 73, 73, 73, 73, 73,\n",
      "         73, 73, 73, 73, 73,  2, 15, 15, 15, 15, 15, 15, 15, 15, 15, 15, 15, 15,\n",
      "         15, 15, 95, 95, 95, 95, 95,  2, 95, 95, 15, 21, 15, 21, 15, 21, 15, 21,\n",
      "         15, 21, 15, 21, 15, 21, 15, 21, 15,  2, 95, 95, 44, 95, 21, 59, 38, 98,\n",
      "         44, 15, 21, 59, 38, 98, 44, 15, 21, 15, 21,  2,  2,  3, 42, 19,  7, 43,\n",
      "         19,  7, 45, 19,  7, 41, 43, 19,  7, 47, 49, 19,  7, 43, 49, 47]])\n",
      "tensor([[61, 84, 94,  ...,  0,  0,  0],\n",
      "        [61, 84, 94,  ...,  0,  0,  0],\n",
      "        [61, 84, 94,  ...,  0,  0,  0],\n",
      "        ...,\n",
      "        [61, 84, 94,  ...,  0,  0,  0],\n",
      "        [61, 84, 94,  ...,  0,  0,  0],\n",
      "        [61, 84, 94,  ...,  0,  0,  0]])\n",
      "157\n",
      "157\n",
      "Final score: 0/60 = 0.00% correct\n",
      "Saving new files to disk...\n",
      "Test exam \n",
      "\n",
      "Final score: 0/1 = 0.00% correct\n",
      "Saving new files to disk...\n",
      "Loading Marker Dataset\n",
      "\n",
      "Training:  13\n",
      "Loading Main Dataset\n",
      "\n",
      "Training:  14\n",
      "Exam and new dataset-------------\n",
      "\n",
      "Training exam \n",
      "\n"
     ]
    },
    {
     "name": "stderr",
     "output_type": "stream",
     "text": [
      "Iiter 59: 100%|██████████| 60/60 [00:01<00:00, 57.07it/s]\n",
      "Iiter 0: 100%|██████████| 1/1 [00:00<00:00, 1392.53it/s]"
     ]
    },
    {
     "name": "stdout",
     "output_type": "stream",
     "text": [
      "torch.Size([1, 188])\n",
      "torch.Size([1, 191])\n",
      "tensor([[61, 84, 94, 95,  7, 95, 83, 80,  7, 91, 93, 84, 88, 80,  7, 81, 76, 78,\n",
      "         95, 90, 93, 94,  7, 90, 81,  7, 48, 42, 49, 41, 45, 43, 46, 21,  1, 21,\n",
      "         15, 21, 15, 21, 15, 21, 15, 21, 15, 21, 15, 21, 15, 21, 15, 21, 15, 21,\n",
      "          2, 21, 59, 38, 21, 59, 38, 21, 59, 38, 21, 59, 38, 21, 59, 38, 21, 59,\n",
      "         38, 21,  2, 38, 59, 38, 59, 38, 21, 59, 38, 21, 59, 38, 21, 59, 38, 21,\n",
      "         59, 38, 21, 59,  2, 95, 44, 99, 95, 44, 99, 95, 44, 99, 95, 99, 95, 99,\n",
      "         95, 99, 95, 99, 95, 99,  2, 95, 44, 99, 44, 99, 44, 99, 44, 99, 95, 44,\n",
      "         99, 95, 44, 99, 95, 44, 99, 95,  2, 15, 15, 15, 15, 15, 15, 15, 15, 15,\n",
      "         15, 15, 15, 15, 15, 15, 15, 15, 15, 15,  2, 95, 44, 95, 44, 98, 44, 98,\n",
      "         98, 98, 98, 98, 98, 98, 98, 98, 98, 98, 98, 98,  2,  3, 42, 19,  7, 41,\n",
      "         41, 19,  7, 44, 47, 41, 41, 41]])\n",
      "tensor([[61, 84, 94, 95,  7, 95, 83, 80,  7, 91, 93, 84, 88, 80,  7, 81, 76, 78,\n",
      "         95, 90, 93, 94,  7, 90, 81,  7, 48, 42, 44, 43, 41, 45, 48, 21,  1, 21,\n",
      "         15, 21, 15, 21, 15, 21, 15, 21, 15, 21, 15, 21, 15, 21, 15, 21, 15, 31,\n",
      "          2, 21, 15, 21, 15, 21, 15, 31, 21, 15, 31, 21, 15, 31, 21, 15, 31, 21,\n",
      "         15, 31,  2, 95, 95, 95, 21, 21, 21, 21, 21, 21, 21, 15, 21, 15, 21, 15,\n",
      "         21, 15, 21, 15,  2, 95, 95, 95, 95, 95, 95, 95, 21, 21, 21, 21, 21, 21,\n",
      "         21, 21, 15, 21, 15, 21,  2, 21, 21, 21, 21, 21, 21, 21, 21, 21, 21, 21,\n",
      "         21, 21, 21, 21, 21, 15, 21, 15,  2, 38, 21, 59, 38, 21, 59, 38, 21, 59,\n",
      "         38, 21, 59, 38, 21, 59, 38, 21, 21, 21,  2, 44, 95, 44, 95, 44, 95, 44,\n",
      "         44, 44, 44, 44, 44, 44, 44, 44, 44, 44, 44, 44,  2,  3, 42, 19,  7, 47,\n",
      "         19,  7, 41, 41, 19,  7, 45, 43, 45, 42, 47]])\n",
      "175\n",
      "175\n",
      "torch.Size([1, 183])\n",
      "torch.Size([1, 191])\n",
      "tensor([[61, 84, 94, 95,  7, 95, 83, 80,  7, 91, 93, 84, 88, 80,  7, 81, 76, 78,\n",
      "         95, 90, 93, 94,  7, 90, 81,  7, 41, 42, 48, 41, 48, 42, 47, 21,  1, 95,\n",
      "         95, 95, 95, 95, 95, 95, 95, 44, 73, 73, 73, 73, 73, 73, 73, 73, 73, 73,\n",
      "          2, 21, 15, 31, 73, 15, 21, 15, 31, 73, 15, 21, 15, 31, 73, 15, 21, 15,\n",
      "         21, 15,  2, 21, 15, 21, 15, 21, 15, 21, 15, 21, 15, 21, 15, 21, 15, 21,\n",
      "         15, 21, 15, 21,  2, 95, 95, 95, 95, 95, 95, 95, 95, 21, 21, 21, 21, 21,\n",
      "         21, 21, 21, 21, 15, 21,  2, 21, 21, 21, 21, 21, 21, 21, 21, 21, 21, 21,\n",
      "         21, 21, 21, 21, 21, 21, 15, 21,  2, 59, 38, 44, 95, 21, 59, 38, 21, 59,\n",
      "         38, 21, 59, 38, 21, 59, 38, 21, 21, 21,  2, 44, 95, 44, 95, 44, 44, 44,\n",
      "         44, 44, 44, 44, 95, 44, 44, 44, 44, 44, 44, 44,  2,  3, 41, 42, 48, 41,\n",
      "         48, 42, 47]])\n",
      "tensor([[61, 84, 94, 95,  7, 95, 83, 80,  7, 91, 93, 84, 88, 80,  7, 81, 76, 78,\n",
      "         95, 90, 93, 94,  7, 90, 81,  7, 48, 42, 44, 43, 41, 45, 48, 21,  1, 21,\n",
      "         15, 21, 15, 21, 15, 21, 15, 21, 15, 21, 15, 21, 15, 21, 15, 21, 15, 31,\n",
      "          2, 21, 15, 21, 15, 21, 15, 31, 21, 15, 31, 21, 15, 31, 21, 15, 31, 21,\n",
      "         15, 31,  2, 95, 95, 95, 21, 21, 21, 21, 21, 21, 21, 15, 21, 15, 21, 15,\n",
      "         21, 15, 21, 15,  2, 95, 95, 95, 95, 95, 95, 95, 21, 21, 21, 21, 21, 21,\n",
      "         21, 21, 15, 21, 15, 21,  2, 21, 21, 21, 21, 21, 21, 21, 21, 21, 21, 21,\n",
      "         21, 21, 21, 21, 21, 15, 21, 15,  2, 38, 21, 59, 38, 21, 59, 38, 21, 59,\n",
      "         38, 21, 59, 38, 21, 59, 38, 21, 21, 21,  2, 44, 95, 44, 95, 44, 95, 44,\n",
      "         44, 44, 44, 44, 44, 44, 44, 44, 44, 44, 44, 44,  2,  3, 42, 19,  7, 47,\n",
      "         19,  7, 41, 41, 19,  7, 45, 43, 45, 42, 47]])\n",
      "175\n",
      "175\n",
      "torch.Size([1, 190])\n",
      "torch.Size([1, 191])\n",
      "tensor([[61, 84, 94, 95,  7, 95, 83, 80,  7, 91, 93, 84, 88, 80,  7, 81, 76, 78,\n",
      "         95, 90, 93, 94,  7, 90, 81,  7, 47, 40, 41, 41, 44, 43, 48, 41, 42, 21,\n",
      "          1, 73, 73, 73, 73, 73, 73, 73, 73, 73, 73, 73, 73, 73, 73, 73, 73, 73,\n",
      "         73, 73,  2, 15, 15, 15, 15, 15, 15, 15, 15, 15, 15, 15, 15, 15, 15, 15,\n",
      "         15, 15, 15, 15,  2, 21, 15, 21, 15, 21, 15, 21, 15, 21, 15, 21, 15, 21,\n",
      "         15, 21, 15, 21, 15, 21,  2, 95, 95, 95, 95, 95, 95, 95, 95, 95, 95, 95,\n",
      "         38, 21, 15, 21, 15, 21, 15, 21,  2, 21, 21, 21, 21, 21, 21, 15, 21, 15,\n",
      "         21, 15, 21, 15, 21, 15, 21, 15, 21, 15,  2, 59, 38, 21, 59, 38, 21, 59,\n",
      "         38, 21, 21, 21, 21, 21, 21, 21, 21, 21,  2, 95, 44, 95, 44, 95, 44, 95,\n",
      "         44, 44, 44, 44, 44, 44, 44, 44, 44, 21, 59, 38,  2,  3, 42, 19,  7, 43,\n",
      "         19,  7, 41, 49, 44, 47, 46, 42, 41, 47]])\n",
      "tensor([[61, 84, 94, 95,  7, 95, 83, 80,  7, 91, 93, 84, 88, 80,  7, 81, 76, 78,\n",
      "         95, 90, 93, 94,  7, 90, 81,  7, 48, 42, 44, 43, 41, 45, 48, 21,  1, 21,\n",
      "         15, 21, 15, 21, 15, 21, 15, 21, 15, 21, 15, 21, 15, 21, 15, 21, 15, 31,\n",
      "          2, 21, 15, 21, 15, 21, 15, 31, 21, 15, 31, 21, 15, 31, 21, 15, 31, 21,\n",
      "         15, 31,  2, 95, 95, 95, 21, 21, 21, 21, 21, 21, 21, 15, 21, 15, 21, 15,\n",
      "         21, 15, 21, 15,  2, 95, 95, 95, 95, 95, 95, 95, 21, 21, 21, 21, 21, 21,\n",
      "         21, 21, 15, 21, 15, 21,  2, 21, 21, 21, 21, 21, 21, 21, 21, 21, 21, 21,\n",
      "         21, 21, 21, 21, 21, 15, 21, 15,  2, 38, 21, 59, 38, 21, 59, 38, 21, 59,\n",
      "         38, 21, 59, 38, 21, 59, 38, 21, 21, 21,  2, 44, 95, 44, 95, 44, 95, 44,\n",
      "         44, 44, 44, 44, 44, 44, 44, 44, 44, 44, 44, 44,  2,  3, 42, 19,  7, 47,\n",
      "         19,  7, 41, 41, 19,  7, 45, 43, 45, 42, 47]])\n",
      "175\n",
      "175\n",
      "torch.Size([1, 195])\n",
      "torch.Size([1, 191])\n",
      "tensor([[61, 84, 94, 95,  7, 95, 83, 80,  7, 91, 93, 84, 88, 80,  7, 81, 76, 78,\n",
      "         95, 90, 93, 94,  7, 90, 81,  7, 45, 42, 45, 40, 48, 40, 46, 46, 47, 48,\n",
      "         21,  1, 73, 73, 73, 73, 73, 73, 73, 73, 73, 73, 73, 73, 73, 73, 73, 73,\n",
      "         73, 73, 73,  2, 21, 15, 31, 73, 15, 21, 15, 15, 15, 15, 15, 15, 15, 15,\n",
      "         15, 15, 15, 15, 15,  2, 21, 15, 21, 15, 21, 15, 21, 15, 21, 15, 21, 15,\n",
      "         21, 15, 31, 73, 15, 21, 15,  2, 95, 95, 95, 95, 95, 21, 15, 21, 15, 21,\n",
      "         15, 21, 15, 21, 15, 21, 15, 21, 15,  2, 21, 21, 21, 21, 21, 15, 21, 15,\n",
      "         21, 15, 21, 15, 21, 15, 21, 15, 21, 15, 21,  2, 59, 38, 21, 59, 38, 21,\n",
      "         59, 38, 21, 59, 38, 21, 59, 38, 21, 21,  2, 44, 95, 44, 95, 44, 95, 44,\n",
      "         44, 44, 44, 44, 44, 44, 44, 44, 44, 21, 59, 21,  2,  3, 42, 19,  7, 41,\n",
      "         43, 19,  7, 43, 47, 19,  7, 46, 41, 19,  7, 46, 48, 48, 43]])\n",
      "tensor([[61, 84, 94, 95,  7, 95, 83, 80,  7, 91, 93, 84, 88, 80,  7, 81, 76, 78,\n",
      "         95, 90, 93, 94,  7, 90, 81,  7, 48, 42, 44, 43, 41, 45, 48, 21,  1, 21,\n",
      "         15, 21, 15, 21, 15, 21, 15, 21, 15, 21, 15, 21, 15, 21, 15, 21, 15, 31,\n",
      "          2, 21, 15, 21, 15, 21, 15, 31, 21, 15, 31, 21, 15, 31, 21, 15, 31, 21,\n",
      "         15, 31,  2, 95, 95, 95, 21, 21, 21, 21, 21, 21, 21, 15, 21, 15, 21, 15,\n",
      "         21, 15, 21, 15,  2, 95, 95, 95, 95, 95, 95, 95, 21, 21, 21, 21, 21, 21,\n",
      "         21, 21, 15, 21, 15, 21,  2, 21, 21, 21, 21, 21, 21, 21, 21, 21, 21, 21,\n",
      "         21, 21, 21, 21, 21, 15, 21, 15,  2, 38, 21, 59, 38, 21, 59, 38, 21, 59,\n",
      "         38, 21, 59, 38, 21, 59, 38, 21, 21, 21,  2, 44, 95, 44, 95, 44, 95, 44,\n",
      "         44, 44, 44, 44, 44, 44, 44, 44, 44, 44, 44, 44,  2,  3, 42, 19,  7, 47,\n",
      "         19,  7, 41, 41, 19,  7, 45, 43, 45, 42, 47]])\n",
      "175\n",
      "175\n",
      "Final score: 0/44 = 0.00% correct\n",
      "Saving new files to disk...\n",
      "Test exam \n",
      "\n",
      "Final score: 0/0 = nan% correct\n",
      "Saving new files to disk...\n",
      "Loading Marker Dataset\n",
      "\n"
     ]
    },
    {
     "name": "stderr",
     "output_type": "stream",
     "text": [
      "\n",
      "/usr/lib/python3/dist-packages/numpy/core/fromnumeric.py:3256: RuntimeWarning: Mean of empty slice.\n",
      "  return _methods._mean(a, axis=axis, dtype=dtype,\n",
      "/usr/lib/python3/dist-packages/numpy/core/_methods.py:161: RuntimeWarning: invalid value encountered in double_scalars\n",
      "  ret = ret.dtype.type(ret / rcount)\n"
     ]
    },
    {
     "ename": "ValueError",
     "evalue": "max() arg is an empty sequence",
     "output_type": "error",
     "traceback": [
      "\u001b[0;31m---------------------------------------------------------------------------\u001b[0m",
      "\u001b[0;31mValueError\u001b[0m                                Traceback (most recent call last)",
      "\u001b[0;32m<ipython-input-9-c68fcb954ed4>\u001b[0m in \u001b[0;36m<module>\u001b[0;34m\u001b[0m\n\u001b[1;32m     18\u001b[0m         \u001b[0mprint\u001b[0m\u001b[0;34m(\u001b[0m\u001b[0;34m\"Loading Marker Dataset\\n\"\u001b[0m\u001b[0;34m)\u001b[0m\u001b[0;34m\u001b[0m\u001b[0;34m\u001b[0m\u001b[0m\n\u001b[1;32m     19\u001b[0m         \u001b[0mtrain_dataset\u001b[0m \u001b[0;34m=\u001b[0m \u001b[0mMarkerDataset\u001b[0m\u001b[0;34m(\u001b[0m\u001b[0mfname\u001b[0m\u001b[0;34m=\u001b[0m\u001b[0mfn_train\u001b[0m\u001b[0;34m,\u001b[0m \u001b[0mMD\u001b[0m\u001b[0;34m=\u001b[0m\u001b[0mMD\u001b[0m\u001b[0;34m)\u001b[0m\u001b[0;34m\u001b[0m\u001b[0;34m\u001b[0m\u001b[0m\n\u001b[0;32m---> 20\u001b[0;31m         \u001b[0mtest_dataset\u001b[0m \u001b[0;34m=\u001b[0m \u001b[0mMarkerDataset\u001b[0m\u001b[0;34m(\u001b[0m\u001b[0mfname\u001b[0m\u001b[0;34m=\u001b[0m\u001b[0mfn_test\u001b[0m\u001b[0;34m,\u001b[0m \u001b[0mMD\u001b[0m\u001b[0;34m=\u001b[0m\u001b[0mMD\u001b[0m\u001b[0;34m)\u001b[0m\u001b[0;34m\u001b[0m\u001b[0;34m\u001b[0m\u001b[0m\n\u001b[0m\u001b[1;32m     21\u001b[0m         \u001b[0mepoch\u001b[0m \u001b[0;34m=\u001b[0m \u001b[0mmarker_epoch\u001b[0m\u001b[0;34m\u001b[0m\u001b[0;34m\u001b[0m\u001b[0m\n\u001b[1;32m     22\u001b[0m \u001b[0;34m\u001b[0m\u001b[0m\n",
      "\u001b[0;32m~/minGPT/mingpt/marker_dataset.py\u001b[0m in \u001b[0;36m__init__\u001b[0;34m(self, fname, MD)\u001b[0m\n\u001b[1;32m     18\u001b[0m         \u001b[0mself\u001b[0m\u001b[0;34m.\u001b[0m\u001b[0mMD\u001b[0m \u001b[0;34m=\u001b[0m \u001b[0mMD\u001b[0m\u001b[0;34m\u001b[0m\u001b[0;34m\u001b[0m\u001b[0m\n\u001b[1;32m     19\u001b[0m         \u001b[0mself\u001b[0m\u001b[0;34m.\u001b[0m\u001b[0mmem_slots\u001b[0m \u001b[0;34m=\u001b[0m \u001b[0mMD\u001b[0m\u001b[0;34m.\u001b[0m\u001b[0mmem_slots\u001b[0m\u001b[0;34m\u001b[0m\u001b[0;34m\u001b[0m\u001b[0m\n\u001b[0;32m---> 20\u001b[0;31m         \u001b[0mself\u001b[0m\u001b[0;34m.\u001b[0m\u001b[0mdataset\u001b[0m \u001b[0;34m=\u001b[0m \u001b[0mself\u001b[0m\u001b[0;34m.\u001b[0m\u001b[0mMD\u001b[0m\u001b[0;34m.\u001b[0m\u001b[0mprepare_data\u001b[0m\u001b[0;34m(\u001b[0m\u001b[0mfname\u001b[0m\u001b[0;34m)\u001b[0m \u001b[0;31m# Extract data, source, memory, and target\u001b[0m\u001b[0;34m\u001b[0m\u001b[0;34m\u001b[0m\u001b[0m\n\u001b[0m\u001b[1;32m     21\u001b[0m         \u001b[0mself\u001b[0m\u001b[0;34m.\u001b[0m\u001b[0mixes\u001b[0m \u001b[0;34m=\u001b[0m \u001b[0mnp\u001b[0m\u001b[0;34m.\u001b[0m\u001b[0marray\u001b[0m\u001b[0;34m(\u001b[0m\u001b[0mlist\u001b[0m\u001b[0;34m(\u001b[0m\u001b[0mrange\u001b[0m\u001b[0;34m(\u001b[0m\u001b[0mlen\u001b[0m\u001b[0;34m(\u001b[0m\u001b[0mself\u001b[0m\u001b[0;34m.\u001b[0m\u001b[0mdataset\u001b[0m\u001b[0;34m[\u001b[0m\u001b[0;36m0\u001b[0m\u001b[0;34m]\u001b[0m\u001b[0;34m)\u001b[0m\u001b[0;34m)\u001b[0m\u001b[0;34m)\u001b[0m\u001b[0;34m)\u001b[0m\u001b[0;34m\u001b[0m\u001b[0;34m\u001b[0m\u001b[0m\n\u001b[1;32m     22\u001b[0m \u001b[0;34m\u001b[0m\u001b[0m\n",
      "\u001b[0;32m~/minGPT/mingpt/md.py\u001b[0m in \u001b[0;36mprepare_data\u001b[0;34m(self, fname)\u001b[0m\n\u001b[1;32m     73\u001b[0m \u001b[0;34m\u001b[0m\u001b[0m\n\u001b[1;32m     74\u001b[0m         \u001b[0mself\u001b[0m\u001b[0;34m.\u001b[0m\u001b[0mmax_src\u001b[0m \u001b[0;34m=\u001b[0m \u001b[0mlen\u001b[0m\u001b[0;34m(\u001b[0m\u001b[0mmax\u001b[0m\u001b[0;34m(\u001b[0m\u001b[0mdataset\u001b[0m\u001b[0;34m[\u001b[0m\u001b[0;36m0\u001b[0m\u001b[0;34m]\u001b[0m\u001b[0;34m,\u001b[0m \u001b[0mkey\u001b[0m\u001b[0;34m=\u001b[0m\u001b[0mlen\u001b[0m\u001b[0;34m)\u001b[0m\u001b[0;34m)\u001b[0m \u001b[0;34m+\u001b[0m \u001b[0;36m1\u001b[0m\u001b[0;31m# +1 for ending token\u001b[0m\u001b[0;34m\u001b[0m\u001b[0;34m\u001b[0m\u001b[0m\n\u001b[0;32m---> 75\u001b[0;31m         \u001b[0mself\u001b[0m\u001b[0;34m.\u001b[0m\u001b[0mmax_trg\u001b[0m \u001b[0;34m=\u001b[0m \u001b[0mlen\u001b[0m\u001b[0;34m(\u001b[0m\u001b[0mmax\u001b[0m\u001b[0;34m(\u001b[0m\u001b[0mdataset\u001b[0m\u001b[0;34m[\u001b[0m\u001b[0;36m1\u001b[0m\u001b[0;34m]\u001b[0m\u001b[0;34m,\u001b[0m \u001b[0mkey\u001b[0m\u001b[0;34m=\u001b[0m\u001b[0mlen\u001b[0m\u001b[0;34m)\u001b[0m\u001b[0;34m)\u001b[0m \u001b[0;34m+\u001b[0m \u001b[0;36m1\u001b[0m \u001b[0;31m# +1 for ending token\u001b[0m\u001b[0;34m\u001b[0m\u001b[0;34m\u001b[0m\u001b[0m\n\u001b[0m\u001b[1;32m     76\u001b[0m \u001b[0;34m\u001b[0m\u001b[0m\n\u001b[1;32m     77\u001b[0m         \u001b[0;31m# Src tokens, target tokens, memory tokens, and corresponding end tokens\u001b[0m\u001b[0;34m\u001b[0m\u001b[0;34m\u001b[0m\u001b[0;34m\u001b[0m\u001b[0m\n",
      "\u001b[0;31mValueError\u001b[0m: max() arg is an empty sequence"
     ]
    }
   ],
   "source": [
    "max_it = 100\n",
    "main_epoch = 1\n",
    "marker_epoch = 1\n",
    "current_it = 0\n",
    "\n",
    "exp_folder = 'models/' + datetime.datetime.now().strftime('%Y-%m-%d~%H:%M:%S')\n",
    "examiner = Examiner(MD)\n",
    "\n",
    "while(current_it < max_it):\n",
    "\n",
    "    # Switch between main training and marker training\n",
    "    if current_it % 2 == 0:\n",
    "        print(\"Loading Main Dataset\\n\")\n",
    "        train_dataset = MathDataset(fname=fn_train, MD=MD)\n",
    "        test_dataset = MathDataset(fname=fn_test, MD=MD)\n",
    "        epoch = main_epoch\n",
    "    else:\n",
    "        print(\"Loading Marker Dataset\\n\")\n",
    "        train_dataset = MarkerDataset(fname=fn_train, MD=MD)\n",
    "        test_dataset = MarkerDataset(fname=fn_test, MD=MD)\n",
    "        epoch = marker_epoch\n",
    "    \n",
    "    # Trainer Config\n",
    "    tconf = TrainerConfig(max_epochs=epoch, batch_size=256, learning_rate=6e-4,\n",
    "                      lr_decay=True, warmup_tokens=1024, final_tokens=epoch*len(train_dataset)*(MD.vocab_size+1),\n",
    "                      num_workers=0)\n",
    "    \n",
    "    # Create the first training round\n",
    "    print(\"Training: \", str(current_it))\n",
    "    trainer = Trainer(model, train_dataset, test_dataset, tconf)\n",
    "    #trainer.train()\n",
    "    trainer.save_checkpoint(exp_folder, str(current_it))\n",
    "    \n",
    "    # Examine the model and create new dataset\n",
    "    if current_it % 2 == 0:\n",
    "        print(\"Exam and new dataset-------------\\n\")\n",
    "        print(\"Training exam \\n\")\n",
    "        examiner.exam(fn_train, train_dataset, trainer, 5000)\n",
    "        print(\"Test exam \\n\")\n",
    "        examiner.exam(fn_test, test_dataset, trainer, 5000)\n",
    "    \n",
    "    current_it += 1"
   ]
  },
  {
   "cell_type": "code",
   "execution_count": null,
   "metadata": {},
   "outputs": [],
   "source": [
    "test = list(range(10))"
   ]
  },
  {
   "cell_type": "code",
   "execution_count": null,
   "metadata": {},
   "outputs": [],
   "source": [
    "test[:20]"
   ]
  },
  {
   "cell_type": "code",
   "execution_count": null,
   "metadata": {},
   "outputs": [],
   "source": [
    "test[3:]"
   ]
  },
  {
   "cell_type": "code",
   "execution_count": null,
   "metadata": {},
   "outputs": [],
   "source": [
    "test = ['', '', 'cat', '']\n",
    "for i in test:\n",
    "    print(i)"
   ]
  },
  {
   "cell_type": "code",
   "execution_count": null,
   "metadata": {},
   "outputs": [],
   "source": [
    "sum([1, 2, 3, ])"
   ]
  },
  {
   "cell_type": "code",
   "execution_count": null,
   "metadata": {},
   "outputs": [],
   "source": [
    "X = torch.tensor([0.1, 0.5, -1.0, 0, 1.2, 0])"
   ]
  },
  {
   "cell_type": "code",
   "execution_count": null,
   "metadata": {},
   "outputs": [],
   "source": [
    "X = X[X > 0.1]"
   ]
  },
  {
   "cell_type": "code",
   "execution_count": null,
   "metadata": {},
   "outputs": [],
   "source": [
    "X"
   ]
  },
  {
   "cell_type": "code",
   "execution_count": null,
   "metadata": {},
   "outputs": [],
   "source": []
  }
 ],
 "metadata": {
  "kernelspec": {
   "display_name": "Python 3",
   "language": "python",
   "name": "python3"
  },
  "language_info": {
   "codemirror_mode": {
    "name": "ipython",
    "version": 3
   },
   "file_extension": ".py",
   "mimetype": "text/x-python",
   "name": "python",
   "nbconvert_exporter": "python",
   "pygments_lexer": "ipython3",
   "version": "3.8.5"
  }
 },
 "nbformat": 4,
 "nbformat_minor": 4
}
