{
 "cells": [
  {
   "cell_type": "code",
   "execution_count": 1,
   "metadata": {},
   "outputs": [],
   "source": [
    "# set up logging\n",
    "import logging\n",
    "logging.basicConfig(\n",
    "        format=\"%(asctime)s - %(levelname)s - %(name)s -   %(message)s\",\n",
    "        datefmt=\"%m/%d/%Y %H:%M:%S\",\n",
    "        level=logging.INFO,\n",
    ")"
   ]
  },
  {
   "cell_type": "code",
   "execution_count": 2,
   "metadata": {},
   "outputs": [],
   "source": [
    "# make deterministic\n",
    "from mingpt.utils import set_seed\n",
    "set_seed(42)"
   ]
  },
  {
   "cell_type": "code",
   "execution_count": 3,
   "metadata": {},
   "outputs": [],
   "source": [
    "import numpy as np\n",
    "import torch\n",
    "import string\n",
    "import os\n",
    "from tqdm import tqdm\n",
    "import torch.nn as nn\n",
    "from torch.nn import functional as F\n",
    "import datetime\n",
    "from mingpt.md import MemData\n",
    "from mingpt.math_dataset import MathDataset\n",
    "from mingpt.model import GPT, GPTConfig, GPT1Config\n",
    "from torch.utils.data.dataloader import DataLoader\n",
    "from mingpt.trainer import Trainer, TrainerConfig\n",
    "from mingpt.adaptive_examiner import AdaptiveExaminer\n",
    "%load_ext autoreload\n",
    "%autoreload 2"
   ]
  },
  {
   "cell_type": "code",
   "execution_count": 4,
   "metadata": {},
   "outputs": [],
   "source": [
    "#create a dataset\n",
    "!rm -rf run models\n",
    "!cp -r data run\n",
    "#!mkdir models\n",
    "fn_data = 'run/numbers__list_prime_factors.txt'"
   ]
  },
  {
   "cell_type": "code",
   "execution_count": 5,
   "metadata": {},
   "outputs": [],
   "source": [
    "# Add memory data structure to training data\n",
    "memory_slots = 7\n",
    "MD = MemData(memory_slots, debug=500)\n",
    "MD.initiate_mem_slot_data(fn_data)"
   ]
  },
  {
   "cell_type": "code",
   "execution_count": 6,
   "metadata": {},
   "outputs": [],
   "source": [
    "fn_test = 'run/test_numbers__list_prime_factors.txt'\n",
    "fn_train = 'run/train_numbers__list_prime_factors.txt'\n",
    "train_dataset = MathDataset(fname=fn_train, MD=MD, marker_data=0.5)"
   ]
  },
  {
   "cell_type": "code",
   "execution_count": 7,
   "metadata": {},
   "outputs": [],
   "source": [
    "#MD.tensor2string(train_dataset[4][1])"
   ]
  },
  {
   "cell_type": "code",
   "execution_count": 8,
   "metadata": {},
   "outputs": [
    {
     "name": "stdout",
     "output_type": "stream",
     "text": [
      "262\n",
      "102\n",
      "27\n"
     ]
    }
   ],
   "source": [
    "print(MD.block_size)\n",
    "print(MD.vocab_size)\n",
    "print(MD.max_trg)"
   ]
  },
  {
   "cell_type": "code",
   "execution_count": 9,
   "metadata": {},
   "outputs": [],
   "source": [
    "# initialize a baby GPT model\n",
    "#mconf = GPTConfig(MD.vocab_size, MD.block_size,\n",
    "#                  n_layer=4, n_head=8, n_embd=256)\n",
    "#model = GPT(mconf)\n",
    "model = torch.load('9.pth')"
   ]
  },
  {
   "cell_type": "code",
   "execution_count": null,
   "metadata": {},
   "outputs": [
    {
     "name": "stderr",
     "output_type": "stream",
     "text": [
      "12/20/2020 08:57:39 - INFO - mingpt.trainer -   saving models/2020-12-20~08:57:39/7.pth\n",
      "  0%|          | 0/450 [00:00<?, ?it/s]"
     ]
    },
    {
     "name": "stdout",
     "output_type": "stream",
     "text": [
      "Marker Data:  0.2\n",
      "Training:  7\n",
      "Exam and new dataset-------------\n",
      "\n",
      "Training exam \n",
      "\n",
      "450\n"
     ]
    },
    {
     "name": "stderr",
     "output_type": "stream",
     "text": [
      "Iiter 449 Score: 0/450: 100%|██████████| 450/450 [00:04<00:00, 104.86it/s]\n",
      "Iiter 12 Score: 0/13:   3%|▎         | 13/450 [00:00<00:05, 79.79it/s]"
     ]
    },
    {
     "name": "stdout",
     "output_type": "stream",
     "text": [
      "Adaptive Compute Iteration:  0\n",
      "Result: 0/450 = 0.00% correct\n",
      "Predictions: 0/450 = 0.00% correct\n",
      "450\n"
     ]
    },
    {
     "name": "stderr",
     "output_type": "stream",
     "text": [
      "Iiter 449 Score: 0/450: 100%|██████████| 450/450 [00:04<00:00, 110.05it/s]\n",
      "Iiter 12 Score: 0/13:   3%|▎         | 13/450 [00:00<00:05, 79.13it/s]"
     ]
    },
    {
     "name": "stdout",
     "output_type": "stream",
     "text": [
      "Adaptive Compute Iteration:  1\n",
      "Result: 0/450 = 0.00% correct\n",
      "Predictions: 0/450 = 0.00% correct\n",
      "450\n"
     ]
    },
    {
     "name": "stderr",
     "output_type": "stream",
     "text": [
      "Iiter 449 Score: 0/450: 100%|██████████| 450/450 [00:04<00:00, 111.06it/s]\n",
      "Iiter 12 Score: 0/13:   3%|▎         | 13/450 [00:00<00:05, 78.19it/s]"
     ]
    },
    {
     "name": "stdout",
     "output_type": "stream",
     "text": [
      "Adaptive Compute Iteration:  2\n",
      "Result: 0/450 = 0.00% correct\n",
      "Predictions: 0/450 = 0.00% correct\n",
      "450\n"
     ]
    },
    {
     "name": "stderr",
     "output_type": "stream",
     "text": [
      "Iiter 449 Score: 0/450: 100%|██████████| 450/450 [00:04<00:00, 111.45it/s]\n",
      "Iiter 12 Score: 0/13:   3%|▎         | 13/450 [00:00<00:05, 74.81it/s]"
     ]
    },
    {
     "name": "stdout",
     "output_type": "stream",
     "text": [
      "Adaptive Compute Iteration:  3\n",
      "Result: 0/450 = 0.00% correct\n",
      "Predictions: 0/450 = 0.00% correct\n",
      "450\n"
     ]
    },
    {
     "name": "stderr",
     "output_type": "stream",
     "text": [
      "Iiter 449 Score: 0/450: 100%|██████████| 450/450 [00:04<00:00, 108.55it/s]\n",
      "Iiter 12 Score: 0/13:   3%|▎         | 13/450 [00:00<00:06, 68.56it/s]"
     ]
    },
    {
     "name": "stdout",
     "output_type": "stream",
     "text": [
      "Adaptive Compute Iteration:  4\n",
      "Result: 0/450 = 0.00% correct\n",
      "Predictions: 0/450 = 0.00% correct\n",
      "450\n"
     ]
    },
    {
     "name": "stderr",
     "output_type": "stream",
     "text": [
      "Iiter 449 Score: 0/450: 100%|██████████| 450/450 [00:04<00:00, 94.86it/s] \n",
      "Iiter 2 Score: 0/2:   0%|          | 0/450 [00:00<?, ?it/s]"
     ]
    },
    {
     "name": "stdout",
     "output_type": "stream",
     "text": [
      "Adaptive Compute Iteration:  5\n",
      "Result: 0/450 = 0.00% correct\n",
      "Predictions: 0/450 = 0.00% correct\n",
      "450\n"
     ]
    },
    {
     "name": "stderr",
     "output_type": "stream",
     "text": [
      "Iiter 449 Score: 0/450: 100%|██████████| 450/450 [00:05<00:00, 83.69it/s]\n",
      "Iiter 2 Score: 0/2:   0%|          | 0/450 [00:00<?, ?it/s]"
     ]
    },
    {
     "name": "stdout",
     "output_type": "stream",
     "text": [
      "Adaptive Compute Iteration:  6\n",
      "Result: 0/450 = 0.00% correct\n",
      "Predictions: 0/450 = 0.00% correct\n",
      "450\n"
     ]
    },
    {
     "name": "stderr",
     "output_type": "stream",
     "text": [
      "Iiter 449 Score: 0/450: 100%|██████████| 450/450 [00:06<00:00, 72.77it/s]\n",
      "Iiter 2 Score: 0/2:   0%|          | 0/450 [00:00<?, ?it/s]"
     ]
    },
    {
     "name": "stdout",
     "output_type": "stream",
     "text": [
      "Adaptive Compute Iteration:  7\n",
      "Result: 0/450 = 0.00% correct\n",
      "Predictions: 0/450 = 0.00% correct\n",
      "450\n"
     ]
    },
    {
     "name": "stderr",
     "output_type": "stream",
     "text": [
      "Iiter 449 Score: 0/450: 100%|██████████| 450/450 [00:06<00:00, 72.71it/s]\n",
      "Iiter 2 Score: 0/2:   0%|          | 0/450 [00:00<?, ?it/s]"
     ]
    },
    {
     "name": "stdout",
     "output_type": "stream",
     "text": [
      "Adaptive Compute Iteration:  8\n",
      "Result: 0/450 = 0.00% correct\n",
      "Predictions: 0/450 = 0.00% correct\n",
      "450\n"
     ]
    },
    {
     "name": "stderr",
     "output_type": "stream",
     "text": [
      "Iiter 449 Score: 0/450: 100%|██████████| 450/450 [00:06<00:00, 72.44it/s]\n",
      "12/20/2020 08:58:28 - INFO - mingpt.trainer -   saving models/2020-12-20~08:57:39/8.pth\n",
      "Iiter 2 Score: 0/2:   0%|          | 0/450 [00:00<?, ?it/s]"
     ]
    },
    {
     "name": "stdout",
     "output_type": "stream",
     "text": [
      "Adaptive Compute Iteration:  9\n",
      "Result: 0/450 = 0.00% correct\n",
      "Predictions: 0/450 = 0.00% correct\n",
      "Final score: 0/450 = 0.00% correct\n",
      "Test exam \n",
      "\n",
      "Marker Data:  0.2\n",
      "Training:  8\n",
      "Exam and new dataset-------------\n",
      "\n",
      "Training exam \n",
      "\n",
      "450\n"
     ]
    },
    {
     "name": "stderr",
     "output_type": "stream",
     "text": [
      "Iiter 449 Score: 0/450: 100%|██████████| 450/450 [00:06<00:00, 72.59it/s]\n",
      "Iiter 2 Score: 0/2:   0%|          | 0/450 [00:00<?, ?it/s]"
     ]
    },
    {
     "name": "stdout",
     "output_type": "stream",
     "text": [
      "Adaptive Compute Iteration:  0\n",
      "Result: 0/450 = 0.00% correct\n",
      "Predictions: 0/450 = 0.00% correct\n",
      "450\n"
     ]
    },
    {
     "name": "stderr",
     "output_type": "stream",
     "text": [
      "Iiter 449 Score: 0/450: 100%|██████████| 450/450 [00:06<00:00, 71.98it/s]\n",
      "Iiter 2 Score: 0/2:   0%|          | 0/450 [00:00<?, ?it/s]"
     ]
    },
    {
     "name": "stdout",
     "output_type": "stream",
     "text": [
      "Adaptive Compute Iteration:  1\n",
      "Result: 0/450 = 0.00% correct\n",
      "Predictions: 0/450 = 0.00% correct\n",
      "450\n"
     ]
    },
    {
     "name": "stderr",
     "output_type": "stream",
     "text": [
      "Iiter 449 Score: 0/450: 100%|██████████| 450/450 [00:06<00:00, 72.49it/s]\n",
      "Iiter 2 Score: 0/2:   0%|          | 0/450 [00:00<?, ?it/s]"
     ]
    },
    {
     "name": "stdout",
     "output_type": "stream",
     "text": [
      "Adaptive Compute Iteration:  2\n",
      "Result: 0/450 = 0.00% correct\n",
      "Predictions: 0/450 = 0.00% correct\n",
      "450\n"
     ]
    },
    {
     "name": "stderr",
     "output_type": "stream",
     "text": [
      "Iiter 449 Score: 0/450: 100%|██████████| 450/450 [00:06<00:00, 72.01it/s]\n",
      "Iiter 2 Score: 0/2:   0%|          | 0/450 [00:00<?, ?it/s]"
     ]
    },
    {
     "name": "stdout",
     "output_type": "stream",
     "text": [
      "Adaptive Compute Iteration:  3\n",
      "Result: 0/450 = 0.00% correct\n",
      "Predictions: 0/450 = 0.00% correct\n",
      "450\n"
     ]
    },
    {
     "name": "stderr",
     "output_type": "stream",
     "text": [
      "Iiter 449 Score: 0/450: 100%|██████████| 450/450 [00:06<00:00, 72.42it/s]\n",
      "Iiter 2 Score: 0/2:   0%|          | 0/450 [00:00<?, ?it/s]"
     ]
    },
    {
     "name": "stdout",
     "output_type": "stream",
     "text": [
      "Adaptive Compute Iteration:  4\n",
      "Result: 0/450 = 0.00% correct\n",
      "Predictions: 0/450 = 0.00% correct\n",
      "450\n"
     ]
    },
    {
     "name": "stderr",
     "output_type": "stream",
     "text": [
      "Iiter 449 Score: 0/450: 100%|██████████| 450/450 [00:06<00:00, 72.57it/s]\n",
      "Iiter 2 Score: 0/2:   0%|          | 0/450 [00:00<?, ?it/s]"
     ]
    },
    {
     "name": "stdout",
     "output_type": "stream",
     "text": [
      "Adaptive Compute Iteration:  5\n",
      "Result: 0/450 = 0.00% correct\n",
      "Predictions: 0/450 = 0.00% correct\n",
      "450\n"
     ]
    },
    {
     "name": "stderr",
     "output_type": "stream",
     "text": [
      "Iiter 449 Score: 0/450: 100%|██████████| 450/450 [00:06<00:00, 71.71it/s]\n",
      "Iiter 2 Score: 0/2:   0%|          | 0/450 [00:00<?, ?it/s]"
     ]
    },
    {
     "name": "stdout",
     "output_type": "stream",
     "text": [
      "Adaptive Compute Iteration:  6\n",
      "Result: 0/450 = 0.00% correct\n",
      "Predictions: 0/450 = 0.00% correct\n",
      "450\n"
     ]
    },
    {
     "name": "stderr",
     "output_type": "stream",
     "text": [
      "Iiter 449 Score: 0/450: 100%|██████████| 450/450 [00:06<00:00, 72.17it/s]\n",
      "Iiter 2 Score: 0/2:   0%|          | 0/450 [00:00<?, ?it/s]"
     ]
    },
    {
     "name": "stdout",
     "output_type": "stream",
     "text": [
      "Adaptive Compute Iteration:  7\n",
      "Result: 0/450 = 0.00% correct\n",
      "Predictions: 0/450 = 0.00% correct\n",
      "450\n"
     ]
    },
    {
     "name": "stderr",
     "output_type": "stream",
     "text": [
      "Iiter 449 Score: 0/450: 100%|██████████| 450/450 [00:06<00:00, 72.24it/s]\n",
      "Iiter 2 Score: 0/2:   0%|          | 0/450 [00:00<?, ?it/s]"
     ]
    },
    {
     "name": "stdout",
     "output_type": "stream",
     "text": [
      "Adaptive Compute Iteration:  8\n",
      "Result: 0/450 = 0.00% correct\n",
      "Predictions: 0/450 = 0.00% correct\n",
      "450\n"
     ]
    },
    {
     "name": "stderr",
     "output_type": "stream",
     "text": [
      "Iiter 449 Score: 0/450: 100%|██████████| 450/450 [00:06<00:00, 72.37it/s]\n",
      "12/20/2020 08:59:31 - INFO - mingpt.trainer -   saving models/2020-12-20~08:57:39/9.pth\n",
      "Iiter 2 Score: 0/2:   0%|          | 0/450 [00:00<?, ?it/s]"
     ]
    },
    {
     "name": "stdout",
     "output_type": "stream",
     "text": [
      "Adaptive Compute Iteration:  9\n",
      "Result: 0/450 = 0.00% correct\n",
      "Predictions: 0/450 = 0.00% correct\n",
      "Final score: 0/450 = 0.00% correct\n",
      "Test exam \n",
      "\n",
      "Marker Data:  0.2\n",
      "Training:  9\n",
      "Exam and new dataset-------------\n",
      "\n",
      "Training exam \n",
      "\n",
      "450\n"
     ]
    },
    {
     "name": "stderr",
     "output_type": "stream",
     "text": [
      "Iiter 449 Score: 0/450: 100%|██████████| 450/450 [00:06<00:00, 72.32it/s]\n",
      "Iiter 2 Score: 0/2:   0%|          | 0/450 [00:00<?, ?it/s]"
     ]
    },
    {
     "name": "stdout",
     "output_type": "stream",
     "text": [
      "Adaptive Compute Iteration:  0\n",
      "Result: 0/450 = 0.00% correct\n",
      "Predictions: 0/450 = 0.00% correct\n",
      "450\n"
     ]
    },
    {
     "name": "stderr",
     "output_type": "stream",
     "text": [
      "Iiter 449 Score: 0/450: 100%|██████████| 450/450 [00:06<00:00, 72.24it/s]\n",
      "Iiter 2 Score: 0/2:   0%|          | 0/450 [00:00<?, ?it/s]"
     ]
    },
    {
     "name": "stdout",
     "output_type": "stream",
     "text": [
      "Adaptive Compute Iteration:  1\n",
      "Result: 0/450 = 0.00% correct\n",
      "Predictions: 0/450 = 0.00% correct\n",
      "450\n"
     ]
    },
    {
     "name": "stderr",
     "output_type": "stream",
     "text": [
      "Iiter 449 Score: 0/450: 100%|██████████| 450/450 [00:06<00:00, 72.06it/s]\n",
      "Iiter 2 Score: 0/2:   0%|          | 0/450 [00:00<?, ?it/s]"
     ]
    },
    {
     "name": "stdout",
     "output_type": "stream",
     "text": [
      "Adaptive Compute Iteration:  2\n",
      "Result: 0/450 = 0.00% correct\n",
      "Predictions: 0/450 = 0.00% correct\n",
      "450\n"
     ]
    },
    {
     "name": "stderr",
     "output_type": "stream",
     "text": [
      "Iiter 272 Score: 0/273:  58%|█████▊    | 263/450 [00:03<00:02, 68.17it/s]"
     ]
    }
   ],
   "source": [
    "max_it = 100\n",
    "current_it = 7\n",
    "batch_size = 10\n",
    "\n",
    "exp_folder = 'models/' + datetime.datetime.now().strftime('%Y-%m-%d~%H:%M:%S')\n",
    "examiner = AdaptiveExaminer(MD, ac=10, max_batch=batch_size)\n",
    "\n",
    "while(current_it < max_it):\n",
    "    \n",
    "    # Wait until the working memory is filled, then use 5 epochs\n",
    "    epoch = 1 if current_it < 7 else 10\n",
    "    # Use marker data once the working memory is full\n",
    "    marker_data = 0.0 if current_it < 7 else 0.2\n",
    "    \n",
    "    # Switch between main training and marker training\n",
    "    print(\"Marker Data: \", str(marker_data))\n",
    "    train_dataset = MathDataset(fname=fn_train, MD=MD, marker_data=marker_data)\n",
    "    test_dataset = MathDataset(fname=fn_test, MD=MD, marker_data=0.0)\n",
    "    \n",
    "    # Trainer Config\n",
    "    tconf = TrainerConfig(max_epochs=epoch, batch_size=batch_size, learning_rate=6e-4,\n",
    "                      lr_decay=True, warmup_tokens=1024, final_tokens=epoch*len(train_dataset)*(MD.vocab_size+1),\n",
    "                      num_workers=6)\n",
    "    \n",
    "    # Create the first training round\n",
    "    print(\"Training: \", str(current_it))\n",
    "    trainer = Trainer(model, train_dataset, test_dataset, tconf)\n",
    "    trainer.train()\n",
    "    trainer.save_checkpoint(exp_folder, str(current_it))\n",
    "    \n",
    "    # Examine the model and create new dataset\n",
    "    \n",
    "    print(\"Exam and new dataset-------------\\n\")\n",
    "    print(\"Training exam \\n\")\n",
    "    examiner.exam(fn_train, trainer)\n",
    "    print(\"Test exam \\n\")\n",
    "    #examiner.exam(fn_test, trainer, test=True)\n",
    "    \n",
    "    current_it += 1"
   ]
  },
  {
   "cell_type": "code",
   "execution_count": null,
   "metadata": {},
   "outputs": [],
   "source": [
    "int(True == True)"
   ]
  },
  {
   "cell_type": "code",
   "execution_count": null,
   "metadata": {},
   "outputs": [],
   "source": [
    "cat = True\n",
    "hat = False\n",
    "print(f\"This is a {cat}, and this is a {hat}\")"
   ]
  },
  {
   "cell_type": "code",
   "execution_count": null,
   "metadata": {},
   "outputs": [],
   "source": [
    "with open(\"foo.txt\", \"a\") as f:\n",
    "     f.write(\"3new line\\n\")"
   ]
  },
  {
   "cell_type": "code",
   "execution_count": null,
   "metadata": {},
   "outputs": [],
   "source": [
    "True == 1"
   ]
  },
  {
   "cell_type": "code",
   "execution_count": null,
   "metadata": {},
   "outputs": [],
   "source": [
    "min(None, 1)"
   ]
  },
  {
   "cell_type": "code",
   "execution_count": null,
   "metadata": {},
   "outputs": [],
   "source": [
    "-1 and 1"
   ]
  },
  {
   "cell_type": "code",
   "execution_count": null,
   "metadata": {},
   "outputs": [],
   "source": []
  }
 ],
 "metadata": {
  "kernelspec": {
   "display_name": "Python 3",
   "language": "python",
   "name": "python3"
  },
  "language_info": {
   "codemirror_mode": {
    "name": "ipython",
    "version": 3
   },
   "file_extension": ".py",
   "mimetype": "text/x-python",
   "name": "python",
   "nbconvert_exporter": "python",
   "pygments_lexer": "ipython3",
   "version": "3.8.5"
  }
 },
 "nbformat": 4,
 "nbformat_minor": 4
}
